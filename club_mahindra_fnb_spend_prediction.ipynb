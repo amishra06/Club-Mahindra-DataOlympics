{
  "nbformat": 4,
  "nbformat_minor": 0,
  "metadata": {
    "colab": {
      "name": "club mahindra fnb spend prediction.ipynb",
      "version": "0.3.2",
      "provenance": [],
      "collapsed_sections": [],
      "include_colab_link": true
    },
    "kernelspec": {
      "name": "python3",
      "display_name": "Python 3"
    }
  },
  "cells": [
    {
      "cell_type": "markdown",
      "metadata": {
        "id": "view-in-github",
        "colab_type": "text"
      },
      "source": [
        "<a href=\"https://colab.research.google.com/github/amishra06/Club-Mahindra-DataOlympics/blob/master/club_mahindra_fnb_spend_prediction.ipynb\" target=\"_parent\"><img src=\"https://colab.research.google.com/assets/colab-badge.svg\" alt=\"Open In Colab\"/></a>"
      ]
    },
    {
      "cell_type": "code",
      "metadata": {
        "id": "1wOWBvmwr8uk",
        "colab_type": "code",
        "colab": {}
      },
      "source": [
        "%reload_ext autoreload\n",
        "%autoreload 2"
      ],
      "execution_count": 0,
      "outputs": []
    },
    {
      "cell_type": "code",
      "metadata": {
        "id": "-NyHsiKl-PLp",
        "colab_type": "code",
        "colab": {}
      },
      "source": [
        "from fastai import *\n",
        "from fastai.basics import *\n",
        "from fastai.tabular import *"
      ],
      "execution_count": 0,
      "outputs": []
    },
    {
      "cell_type": "code",
      "metadata": {
        "id": "873Mdlin-Qn9",
        "colab_type": "code",
        "outputId": "c9126a5a-9097-4715-82af-86f623a51953",
        "colab": {
          "base_uri": "https://localhost:8080/",
          "height": 34
        }
      },
      "source": [
        "#pwd()"
      ],
      "execution_count": 3,
      "outputs": [
        {
          "output_type": "execute_result",
          "data": {
            "text/plain": [
              "'/content'"
            ]
          },
          "metadata": {
            "tags": []
          },
          "execution_count": 3
        }
      ]
    },
    {
      "cell_type": "code",
      "metadata": {
        "id": "I3U6tZs23SsU",
        "colab_type": "code",
        "colab": {}
      },
      "source": [
        "#I am working on google colab\n",
        "path = '/content'"
      ],
      "execution_count": 0,
      "outputs": []
    },
    {
      "cell_type": "code",
      "metadata": {
        "id": "YuyqzZRaN3iy",
        "colab_type": "code",
        "colab": {}
      },
      "source": [
        "table_names = ['train', 'test']"
      ],
      "execution_count": 0,
      "outputs": []
    },
    {
      "cell_type": "code",
      "metadata": {
        "id": "bHDmcy_TN424",
        "colab_type": "code",
        "colab": {}
      },
      "source": [
        "tables = [pd.read_csv(f'{fname}.csv', low_memory=False) for fname in table_names]"
      ],
      "execution_count": 0,
      "outputs": []
    },
    {
      "cell_type": "code",
      "metadata": {
        "id": "OM5X6FFeOjMU",
        "colab_type": "code",
        "colab": {}
      },
      "source": [
        "train_df,test_df = tables"
      ],
      "execution_count": 0,
      "outputs": []
    },
    {
      "cell_type": "code",
      "metadata": {
        "id": "votDnZljSwMc",
        "colab_type": "code",
        "outputId": "398b334d-b932-4c4c-b0ff-7753ee9509c5",
        "colab": {
          "base_uri": "https://localhost:8080/",
          "height": 34
        }
      },
      "source": [
        "len(train_df),len(test_df)"
      ],
      "execution_count": 8,
      "outputs": [
        {
          "output_type": "execute_result",
          "data": {
            "text/plain": [
              "(341424, 146765)"
            ]
          },
          "metadata": {
            "tags": []
          },
          "execution_count": 8
        }
      ]
    },
    {
      "cell_type": "code",
      "metadata": {
        "id": "PsRBlC31S1jT",
        "colab_type": "code",
        "colab": {}
      },
      "source": [
        "#Trying to understand the data\n",
        "#train_df.describe()\n",
        "#train_df.head().T\n",
        "#train_df.nunique()\n",
        "#One of the roomnights is -45. Needs to be  inestigated.  \n",
        "#train_df[train_df['roomnights'] == -45].T\n",
        "#train_df['roomnights'].unique()"
      ],
      "execution_count": 0,
      "outputs": []
    },
    {
      "cell_type": "markdown",
      "metadata": {
        "id": "rHFheLROBnNH",
        "colab_type": "text"
      },
      "source": [
        "**Simple Feature Engineering**"
      ]
    },
    {
      "cell_type": "code",
      "metadata": {
        "id": "9b06gk7cN3V4",
        "colab_type": "code",
        "colab": {}
      },
      "source": [
        "# from columns 'checking_date' and 'checkout_date' creating new field 'roomdays' \n",
        "import time\n",
        "from datetime import datetime as dt\n",
        "\n",
        "def get_roomdays(df,fld1,fld2,fld3):\n",
        "    adiff = []\n",
        "    for date1, date2 in zip(df[fld1],df[fld2]):\n",
        "        diff = dt.strptime(date2, \"%d/%m/%y\") - dt.strptime(date1, \"%d/%m/%y\")\n",
        "        adiff.append(int(diff.days))\n",
        "    df[fld3] = pd.Series(adiff)"
      ],
      "execution_count": 0,
      "outputs": []
    },
    {
      "cell_type": "code",
      "metadata": {
        "id": "WsJIRNzFN5Mc",
        "colab_type": "code",
        "colab": {}
      },
      "source": [
        "get_roomdays(train_df, 'checkin_date', 'checkout_date', 'roomdays' )\n"
      ],
      "execution_count": 0,
      "outputs": []
    },
    {
      "cell_type": "code",
      "metadata": {
        "id": "2_LTLiWjYJHi",
        "colab_type": "code",
        "colab": {}
      },
      "source": [
        "get_roomdays(test_df, 'checkin_date', 'checkout_date', 'roomdays' )\n"
      ],
      "execution_count": 0,
      "outputs": []
    },
    {
      "cell_type": "code",
      "metadata": {
        "id": "RMk2AZJN723m",
        "colab_type": "code",
        "colab": {}
      },
      "source": [
        "#Setting roomnights where its -45 as a day less than roomdays\n",
        "\n",
        "train_df.loc[train_df.roomnights == -45, 'roomnights'] = 6\n"
      ],
      "execution_count": 0,
      "outputs": []
    },
    {
      "cell_type": "markdown",
      "metadata": {
        "id": "wDwi3IaTlZP-",
        "colab_type": "text"
      },
      "source": [
        "**Data Processing**"
      ]
    },
    {
      "cell_type": "code",
      "metadata": {
        "id": "mKwvwembS-tK",
        "colab_type": "code",
        "colab": {}
      },
      "source": [
        "# Processing to be done on data. FillMissing will look for missing values and handle them in some way. Categorify will turn categorical \n",
        "# variables in pandas categories. Normalize will normalize continuous variables.\n",
        "procs=[FillMissing, Categorify, Normalize]"
      ],
      "execution_count": 0,
      "outputs": []
    },
    {
      "cell_type": "code",
      "metadata": {
        "colab_type": "code",
        "id": "z0C-h0JiYz-G",
        "colab": {}
      },
      "source": [
        "# Defining categorical and continuous variables\n",
        "\n",
        "cat_vars = ['channel_code', 'main_product_code', 'numberofadults', 'numberofchildren', 'persontravellingid', 'resort_region_code', \n",
        "            'resort_type_code', 'room_type_booked_code', 'roomnights', 'state_code_resort', 'total_pax', 'booking_type_code','cluster_code',\n",
        "            'reservationstatusid_code','member_age_buckets', 'roomdays']\n",
        "\n",
        "cont_vars = ['season_holidayed_code', 'state_code_residence']\n",
        "\n"
      ],
      "execution_count": 0,
      "outputs": []
    },
    {
      "cell_type": "code",
      "metadata": {
        "id": "6haDvoymZ8nY",
        "colab_type": "code",
        "colab": {}
      },
      "source": [
        "# Defining dependent variable and creating dataframe consisting of categorical, contnuous and dependent variables\n",
        "dep_var = 'amount_spent_per_room_night_scaled'\n",
        "df = train_df[cat_vars + cont_vars + [dep_var]].copy()\n"
      ],
      "execution_count": 0,
      "outputs": []
    },
    {
      "cell_type": "code",
      "metadata": {
        "id": "fuqm1Ucvs5RP",
        "colab_type": "code",
        "colab": {}
      },
      "source": [
        "# Defining validation range\n",
        "valid_idx = range(len(df)-20000, len(df))"
      ],
      "execution_count": 0,
      "outputs": []
    },
    {
      "cell_type": "code",
      "metadata": {
        "id": "wd_MgJ5a2bHl",
        "colab_type": "code",
        "outputId": "2bd7dcf4-57b7-406f-a074-157e236eb641",
        "colab": {
          "base_uri": "https://localhost:8080/",
          "height": 34
        }
      },
      "source": [
        "valid_idx"
      ],
      "execution_count": 18,
      "outputs": [
        {
          "output_type": "execute_result",
          "data": {
            "text/plain": [
              "range(321424, 341424)"
            ]
          },
          "metadata": {
            "tags": []
          },
          "execution_count": 18
        }
      ]
    },
    {
      "cell_type": "code",
      "metadata": {
        "id": "dCPdUMhpHw12",
        "colab_type": "code",
        "outputId": "87847262-7f8d-40b7-c130-bbbe9e1e27a6",
        "colab": {
          "base_uri": "https://localhost:8080/",
          "height": 118
        }
      },
      "source": [
        "train_df.amount_spent_per_room_night_scaled.head()\n"
      ],
      "execution_count": 19,
      "outputs": [
        {
          "output_type": "execute_result",
          "data": {
            "text/plain": [
              "0    7.706428\n",
              "1    6.662563\n",
              "2    7.871602\n",
              "3    5.344943\n",
              "4    7.059346\n",
              "Name: amount_spent_per_room_night_scaled, dtype: float64"
            ]
          },
          "metadata": {
            "tags": []
          },
          "execution_count": 19
        }
      ]
    },
    {
      "cell_type": "markdown",
      "metadata": {
        "id": "HP1YZqo185Vm",
        "colab_type": "text"
      },
      "source": [
        "**Model Creation**"
      ]
    },
    {
      "cell_type": "code",
      "metadata": {
        "id": "tcsXZWaM2dCh",
        "colab_type": "code",
        "colab": {}
      },
      "source": [
        "# Create databunch to be used in deep learning model\n",
        "data = (TabularList.from_df(df, path=path, cat_names=cat_vars, cont_names=cont_vars, procs=procs,)\n",
        "        .split_by_idx(valid_idx)\n",
        "        .label_from_df(cols=dep_var, label_cls=FloatList, log=False)\n",
        "        .add_test(TabularList.from_df(test_df, path=path, cat_names=cat_vars, cont_names=cont_vars))\n",
        "        .databunch())"
      ],
      "execution_count": 0,
      "outputs": []
    },
    {
      "cell_type": "code",
      "metadata": {
        "id": "Ml1pM-V_3qb0",
        "colab_type": "code",
        "colab": {}
      },
      "source": [
        "# Set the y range\n",
        "max_y = np.max(train_df['amount_spent_per_room_night_scaled'])*1.2\n",
        "y_range = torch.tensor([0, max_y], device=defaults.device)"
      ],
      "execution_count": 0,
      "outputs": []
    },
    {
      "cell_type": "code",
      "metadata": {
        "id": "94U56Mds9LkP",
        "colab_type": "code",
        "colab": {}
      },
      "source": [
        "# Set the deep learning neural net with no of layers and other regularisation parameters\n",
        "learn = tabular_learner(data, layers=[1000,500], ps=[0.001,0.01], emb_drop=0.04, \n",
        "                        y_range=y_range, metrics=rmse)"
      ],
      "execution_count": 0,
      "outputs": []
    },
    {
      "cell_type": "code",
      "metadata": {
        "id": "rcY2_wvk9WH3",
        "colab_type": "code",
        "colab": {}
      },
      "source": [
        "learn.model"
      ],
      "execution_count": 0,
      "outputs": []
    },
    {
      "cell_type": "code",
      "metadata": {
        "id": "rgiQBrb_-Bdz",
        "colab_type": "code",
        "outputId": "86d00a2d-739e-443d-a472-8787653fed5a",
        "colab": {
          "base_uri": "https://localhost:8080/",
          "height": 34
        }
      },
      "source": [
        "len(data.train_ds.cont_names)"
      ],
      "execution_count": 25,
      "outputs": [
        {
          "output_type": "execute_result",
          "data": {
            "text/plain": [
              "2"
            ]
          },
          "metadata": {
            "tags": []
          },
          "execution_count": 25
        }
      ]
    },
    {
      "cell_type": "markdown",
      "metadata": {
        "id": "4rPvshnvgo7l",
        "colab_type": "text"
      },
      "source": [
        "**Training the model**"
      ]
    },
    {
      "cell_type": "code",
      "metadata": {
        "id": "Y-nTtDOD-QRw",
        "colab_type": "code",
        "outputId": "3ace974f-37bb-426a-f1df-8003abd51a98",
        "colab": {
          "base_uri": "https://localhost:8080/",
          "height": 300
        }
      },
      "source": [
        "# Find suitable learning rate\n",
        "learn.lr_find()\n",
        "learn.recorder.plot()"
      ],
      "execution_count": 26,
      "outputs": [
        {
          "output_type": "display_data",
          "data": {
            "text/html": [
              ""
            ],
            "text/plain": [
              "<IPython.core.display.HTML object>"
            ]
          },
          "metadata": {
            "tags": []
          }
        },
        {
          "output_type": "stream",
          "text": [
            "LR Finder is complete, type {learner_name}.recorder.plot() to see the graph.\n"
          ],
          "name": "stdout"
        },
        {
          "output_type": "display_data",
          "data": {
            "image/png": "[encoded data removed]",
            "text/plain": [
              "<Figure size 432x288 with 1 Axes>"
            ]
          },
          "metadata": {
            "tags": []
          }
        }
      ]
    },
    {
      "cell_type": "code",
      "metadata": {
        "id": "fnVZ3fsK-biv",
        "colab_type": "code",
        "outputId": "419906ff-18d8-4752-a317-f9aa97b8db79",
        "colab": {
          "base_uri": "https://localhost:8080/",
          "height": 195
        }
      },
      "source": [
        "# Train for 5 epochs with learning rate we found above\n",
        "learn.fit_one_cycle(5, 1e-2, wd=0.2)"
      ],
      "execution_count": 27,
      "outputs": [
        {
          "output_type": "display_data",
          "data": {
            "text/html": [
              "<table border=\"1\" class=\"dataframe\">\n",
              "  <thead>\n",
              "    <tr style=\"text-align: left;\">\n",
              "      <th>epoch</th>\n",
              "      <th>train_loss</th>\n",
              "      <th>valid_loss</th>\n",
              "      <th>root_mean_squared_error</th>\n",
              "      <th>time</th>\n",
              "    </tr>\n",
              "  </thead>\n",
              "  <tbody>\n",
              "    <tr>\n",
              "      <td>0</td>\n",
              "      <td>0.968730</td>\n",
              "      <td>1.163052</td>\n",
              "      <td>1.070445</td>\n",
              "      <td>03:02</td>\n",
              "    </tr>\n",
              "    <tr>\n",
              "      <td>1</td>\n",
              "      <td>1.042516</td>\n",
              "      <td>1.184946</td>\n",
              "      <td>1.080636</td>\n",
              "      <td>03:33</td>\n",
              "    </tr>\n",
              "    <tr>\n",
              "      <td>2</td>\n",
              "      <td>1.042422</td>\n",
              "      <td>1.166096</td>\n",
              "      <td>1.071410</td>\n",
              "      <td>03:54</td>\n",
              "    </tr>\n",
              "    <tr>\n",
              "      <td>3</td>\n",
              "      <td>0.969297</td>\n",
              "      <td>1.131464</td>\n",
              "      <td>1.054419</td>\n",
              "      <td>04:31</td>\n",
              "    </tr>\n",
              "    <tr>\n",
              "      <td>4</td>\n",
              "      <td>0.950972</td>\n",
              "      <td>1.131354</td>\n",
              "      <td>1.054901</td>\n",
              "      <td>06:44</td>\n",
              "    </tr>\n",
              "  </tbody>\n",
              "</table>"
            ],
            "text/plain": [
              "<IPython.core.display.HTML object>"
            ]
          },
          "metadata": {
            "tags": []
          }
        }
      ]
    },
    {
      "cell_type": "code",
      "metadata": {
        "id": "DdDc4jjA-oOp",
        "colab_type": "code",
        "colab": {}
      },
      "source": [
        "# Save the trained model\n",
        "learn.save('1')"
      ],
      "execution_count": 0,
      "outputs": []
    },
    {
      "cell_type": "code",
      "metadata": {
        "id": "QxEfxVc2DpNd",
        "colab_type": "code",
        "outputId": "a3a6b097-ec9e-4faa-eb05-f15d650f0bb1",
        "colab": {
          "base_uri": "https://localhost:8080/",
          "height": 283
        }
      },
      "source": [
        "# Plot train and validation loss\n",
        "learn.recorder.plot_losses()"
      ],
      "execution_count": 29,
      "outputs": [
        {
          "output_type": "display_data",
          "data": {
            "image/png": "[encoded data removed]",
            "text/plain": [
              "<Figure size 432x288 with 1 Axes>"
            ]
          },
          "metadata": {
            "tags": []
          }
        }
      ]
    },
    {
      "cell_type": "code",
      "metadata": {
        "id": "4Ah01Xn1DvAk",
        "colab_type": "code",
        "colab": {}
      },
      "source": [
        "# Load the previously trained model and train it further\n",
        "learn.load('1');"
      ],
      "execution_count": 0,
      "outputs": []
    },
    {
      "cell_type": "code",
      "metadata": {
        "id": "GN7uCM4PF6XC",
        "colab_type": "code",
        "outputId": "4ab5bda7-347d-41a8-9c19-f152fb9fb6fa",
        "colab": {
          "base_uri": "https://localhost:8080/",
          "height": 195
        }
      },
      "source": [
        "# train for 5 epochs\n",
        "learn.fit_one_cycle(5, 3e-4)"
      ],
      "execution_count": 32,
      "outputs": [
        {
          "output_type": "display_data",
          "data": {
            "text/html": [
              "<table border=\"1\" class=\"dataframe\">\n",
              "  <thead>\n",
              "    <tr style=\"text-align: left;\">\n",
              "      <th>epoch</th>\n",
              "      <th>train_loss</th>\n",
              "      <th>valid_loss</th>\n",
              "      <th>root_mean_squared_error</th>\n",
              "      <th>time</th>\n",
              "    </tr>\n",
              "  </thead>\n",
              "  <tbody>\n",
              "    <tr>\n",
              "      <td>0</td>\n",
              "      <td>0.973087</td>\n",
              "      <td>1.135737</td>\n",
              "      <td>1.057299</td>\n",
              "      <td>07:52</td>\n",
              "    </tr>\n",
              "    <tr>\n",
              "      <td>1</td>\n",
              "      <td>0.983895</td>\n",
              "      <td>1.136422</td>\n",
              "      <td>1.057577</td>\n",
              "      <td>07:50</td>\n",
              "    </tr>\n",
              "    <tr>\n",
              "      <td>2</td>\n",
              "      <td>0.993413</td>\n",
              "      <td>1.130939</td>\n",
              "      <td>1.054917</td>\n",
              "      <td>07:49</td>\n",
              "    </tr>\n",
              "    <tr>\n",
              "      <td>3</td>\n",
              "      <td>0.948228</td>\n",
              "      <td>1.136380</td>\n",
              "      <td>1.057767</td>\n",
              "      <td>07:49</td>\n",
              "    </tr>\n",
              "    <tr>\n",
              "      <td>4</td>\n",
              "      <td>0.953245</td>\n",
              "      <td>1.133956</td>\n",
              "      <td>1.056460</td>\n",
              "      <td>07:49</td>\n",
              "    </tr>\n",
              "  </tbody>\n",
              "</table>"
            ],
            "text/plain": [
              "<IPython.core.display.HTML object>"
            ]
          },
          "metadata": {
            "tags": []
          }
        }
      ]
    },
    {
      "cell_type": "code",
      "metadata": {
        "id": "Kt1r9ye4J8b6",
        "colab_type": "code",
        "colab": {}
      },
      "source": [
        "learn.save('2')"
      ],
      "execution_count": 0,
      "outputs": []
    },
    {
      "cell_type": "code",
      "metadata": {
        "id": "Io0VTxDHK_rG",
        "colab_type": "code",
        "colab": {}
      },
      "source": [
        "#learn.load('2');"
      ],
      "execution_count": 0,
      "outputs": []
    },
    {
      "cell_type": "markdown",
      "metadata": {
        "id": "Xh-45ITiiW3q",
        "colab_type": "text"
      },
      "source": [
        "**Prediction on Test set**"
      ]
    },
    {
      "cell_type": "code",
      "metadata": {
        "id": "j3mzwB9pbR_0",
        "colab_type": "code",
        "colab": {}
      },
      "source": [
        "# Creation of submission file from test set prediction values\n",
        "test_preds=learn.get_preds(DatasetType.Test)\n",
        "test_df[\"amount_spent_per_room_night_scaled\"]=test_preds[0].data.numpy().T[0]\n",
        "test_df[\"amount_spent_per_room_night_scaled\"]=test_df[\"amount_spent_per_room_night_scaled\"].astype(\"float\")\n",
        "test_df[[\"reservation_id\",\"amount_spent_per_room_night_scaled\"]].to_csv(\"submission.csv\",index=False)"
      ],
      "execution_count": 0,
      "outputs": []
    }
  ]
}